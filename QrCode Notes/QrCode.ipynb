{
 "cells": [
  {
   "cell_type": "code",
   "execution_count": null,
   "metadata": {},
   "outputs": [],
   "source": [
    "import qrcode \n",
    "img = qrcode.make('Some data here') # qr code in txt \n",
    "type(img)  # qrcode.image.pil.PilImage\n",
    "img.save('some_file1.png')"
   ]
  },
  {
   "cell_type": "code",
   "execution_count": null,
   "metadata": {},
   "outputs": [],
   "source": [
    "import qrcode\n",
    "\n",
    "qr = qrcode.QRCode(\n",
    "    version=1, # (21x21 matrix)\n",
    "    error_correction=qrcode.constants.ERROR_CORRECT_L,\n",
    "    box_size=10,\n",
    "    border=4,\n",
    ")\n",
    "qr.add_data('Some data') # qr code in txt\n",
    "qr.make(fit=True)\n",
    "\n",
    "img = qr.make_image(fill_color=\"black\", back_color=\"white\") # (back_color=(255, 195, 235), fill_color=(55, 95, 35))\n",
    "type(img)  # qrcode.image.pil.PilImage\n",
    "img.save(\"some_file1.png\")\n"
   ]
  },
  {
   "cell_type": "code",
   "execution_count": null,
   "metadata": {},
   "outputs": [],
   "source": [
    "\n",
    "import qrcode\n",
    "import qrcode.image.svg\n",
    "\n",
    "method = input('(basic/fragment): ').strip()\n",
    "\n",
    "\n",
    "if method == 'basic':\n",
    "    factory = qrcode.image.svg.SvgFillImage\n",
    "elif method == 'fragment':\n",
    "    factory = qrcode.image.svg.SvgFragmentImage\n",
    "else:\n",
    "    factory = qrcode.image.svg.SvgPathImage\n",
    "\n",
    "data = \"Some data here fraf\"\n",
    "img = qrcode.make(data, image_factory=factory)\n",
    "\n",
    "output_file = \"qr_code_output.svg\"\n",
    "img.save(output_file)\n",
    "\n",
    "print(f\"QR kod başarıyla oluşturuldu ve {output_file} olarak kaydedildi.\")\n"
   ]
  },
  {
   "cell_type": "code",
   "execution_count": null,
   "metadata": {},
   "outputs": [],
   "source": [
    "\n",
    "import qrcode\n",
    "from qrcode.image.styledpil import StyledPilImage\n",
    "from qrcode.image.styles.moduledrawers.pil import RoundedModuleDrawer\n",
    "from qrcode.image.styles.colormasks import RadialGradiantColorMask\n",
    "\n",
    "qr = qrcode.QRCode(error_correction=qrcode.constants.ERROR_CORRECT_H)\n",
    "qr.add_data('https://music.youtube.com/watch?v=fw7C6foe1-4&list=RDAMVMsyAlVbm_YQ0')\n",
    "\n",
    "img_2 = qr.make_image(image_factory=StyledPilImage, module_drawer=RoundedModuleDrawer())\n",
    "img_3 = qr.make_image(image_factory=StyledPilImage, color_mask=RadialGradiantColorMask())\n",
    "img_4 = qr.make_image(image_factory=StyledPilImage, embeded_image_path=\"C:\\\\Users\\\\mfurk\\\\OneDrive\\\\Masaüstü\\\\MasaÜstü\\\\BTK\\\\Project\\\\Qr Code\\\\some_file1.png\")\n",
    "\n",
    "type(img_2)\n",
    "type(img_3)\n",
    "type(img_4)\n",
    "\n",
    "img_2.save(\"some_file2.png\")\n",
    "img_3.save(\"some_file3.png\")\n",
    "img_4.save(\"some_file4.png\")\n"
   ]
  },
  {
   "cell_type": "code",
   "execution_count": null,
   "metadata": {},
   "outputs": [],
   "source": [
    "\n",
    "import qrcode\n",
    "\n",
    "qr = qrcode.QRCode()\n",
    "qr.add_data('Some data')\n",
    "\n",
    "img = qr.make_image()\n",
    "\n",
    "qr.clear()\n",
    "qr.add_data('New data')\n",
    "\n",
    "other_img = qr.make_image()\n",
    "print(f'{other_img}')\n",
    "other_img.save(\"new_data.png\")"
   ]
  }
 ],
 "metadata": {
  "kernelspec": {
   "display_name": "Python 3",
   "language": "python",
   "name": "python3"
  },
  "language_info": {
   "name": "python",
   "version": "3.11.8"
  }
 },
 "nbformat": 4,
 "nbformat_minor": 2
}
